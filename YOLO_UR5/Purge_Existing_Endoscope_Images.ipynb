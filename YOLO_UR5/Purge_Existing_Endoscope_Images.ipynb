{
 "cells": [
  {
   "cell_type": "code",
   "execution_count": 31,
   "metadata": {},
   "outputs": [],
   "source": [
    "import numpy as np\n",
    "import cv2\n",
    "import os"
   ]
  },
  {
   "cell_type": "markdown",
   "metadata": {},
   "source": []
  },
  {
   "cell_type": "code",
   "execution_count": 32,
   "metadata": {},
   "outputs": [
    {
     "data": {
      "text/plain": [
       "'/Users/tonytu/Desktop/Soft_Robotics_Internship/YOLO_UR5_Test/Blackberry-Endoscopic-clean/train/labels'"
      ]
     },
     "execution_count": 32,
     "metadata": {},
     "output_type": "execute_result"
    }
   ],
   "source": [
    "os. getcwd()"
   ]
  },
  {
   "cell_type": "code",
   "execution_count": 36,
   "metadata": {},
   "outputs": [
    {
     "data": {
      "text/plain": [
       "'/Users/tonytu/Desktop/Soft_Robotics_Internship/YOLO_UR5_Test/Blackberry-Endoscopic-clean/test/labels'"
      ]
     },
     "execution_count": 36,
     "metadata": {},
     "output_type": "execute_result"
    }
   ],
   "source": [
    "directory = \"/Users/tonytu/Desktop/Soft_Robotics_Internship/YOLO_UR5_Test/Blackberry-Endoscopic-clean/test/labels\"\n",
    "os.chdir(directory)\n",
    "os. getcwd()"
   ]
  },
  {
   "cell_type": "code",
   "execution_count": 37,
   "metadata": {},
   "outputs": [
    {
     "name": "stdout",
     "output_type": "stream",
     "text": [
      "/Users/tonytu/Desktop/Soft_Robotics_Internship/YOLO_UR5_Test/Blackberry-Endoscopic-clean/test/labels\n"
     ]
    }
   ],
   "source": [
    "print(os.getcwd())"
   ]
  },
  {
   "cell_type": "code",
   "execution_count": 38,
   "metadata": {},
   "outputs": [],
   "source": [
    "for filename in os.listdir(directory):\n",
    "    temp = np.loadtxt(filename)\n",
    "    if len(temp.shape) == 2:\n",
    "        temp = temp[np.where(temp[:,0] < 1)[0],:]\n",
    "        np.savetxt(filename, temp, fmt='%.7f')"
   ]
  }
 ],
 "metadata": {
  "kernelspec": {
   "display_name": "Python 3.8.13 ('pytorch_m1')",
   "language": "python",
   "name": "python3"
  },
  "language_info": {
   "codemirror_mode": {
    "name": "ipython",
    "version": 3
   },
   "file_extension": ".py",
   "mimetype": "text/x-python",
   "name": "python",
   "nbconvert_exporter": "python",
   "pygments_lexer": "ipython3",
   "version": "3.8.13"
  },
  "orig_nbformat": 4,
  "vscode": {
   "interpreter": {
    "hash": "a30f53d803787a918c58275224daf75fe9c9f74b6e07bf2801b5b63931992ca7"
   }
  }
 },
 "nbformat": 4,
 "nbformat_minor": 2
}
