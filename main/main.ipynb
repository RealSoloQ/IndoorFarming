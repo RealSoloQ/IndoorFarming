version https://git-lfs.github.com/spec/v1
oid sha256:8f89e0c4f6d1e30aaa171db3e17e5055ed812e4ac22bdc38d72919552af0dc5d
size 400705
