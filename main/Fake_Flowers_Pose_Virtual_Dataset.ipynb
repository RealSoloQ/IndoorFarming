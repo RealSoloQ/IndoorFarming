version https://git-lfs.github.com/spec/v1
oid sha256:34a8a6898f79b613a1235c64bda937bd41fa956419bd33a039b549ee21a82ebb
size 62490843
