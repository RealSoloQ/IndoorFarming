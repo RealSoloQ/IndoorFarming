version https://git-lfs.github.com/spec/v1
oid sha256:f20784f528f269aab3ece4e59e40466c7dac748dd2465efaa4a3c977aeab749d
size 20674
