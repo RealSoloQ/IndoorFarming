version https://git-lfs.github.com/spec/v1
oid sha256:78cdbd0e93352a718c698fcb6ead8a0a9387bf7bf1c3eb6abba563907c32aeea
size 12900
